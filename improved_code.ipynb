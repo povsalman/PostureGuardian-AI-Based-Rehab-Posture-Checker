{
 "cells": [
  {
   "cell_type": "markdown",
   "id": "c72329ca",
   "metadata": {},
   "source": [
    "# Libraries"
   ]
  },
  {
   "cell_type": "code",
   "execution_count": null,
   "id": "c5030cf5",
   "metadata": {},
   "outputs": [
    {
     "name": "stdout",
     "output_type": "stream",
     "text": [
      "Collecting opencv-python\n",
      "  Downloading opencv_python-4.11.0.86-cp37-abi3-win_amd64.whl (39.5 MB)\n",
      "     --------------------------------------- 39.5/39.5 MB 43.7 MB/s eta 0:00:00\n",
      "Collecting mediapipe\n",
      "  Downloading mediapipe-0.10.21-cp311-cp311-win_amd64.whl (51.0 MB)\n",
      "     --------------------------------------- 51.0/51.0 MB 54.7 MB/s eta 0:00:00\n",
      "Requirement already satisfied: numpy in c:\\python311\\lib\\site-packages (2.2.6)\n",
      "Requirement already satisfied: pandas in c:\\python311\\lib\\site-packages (2.2.3)\n",
      "Requirement already satisfied: scikit-learn in c:\\python311\\lib\\site-packages (1.6.1)\n",
      "Requirement already satisfied: joblib in c:\\python311\\lib\\site-packages (1.5.0)\n",
      "Collecting tqdm\n",
      "  Downloading tqdm-4.67.1-py3-none-any.whl (78 kB)\n",
      "     ---------------------------------------- 78.5/78.5 kB ? eta 0:00:00\n",
      "Requirement already satisfied: matplotlib in c:\\python311\\lib\\site-packages (3.10.3)\n",
      "Requirement already satisfied: seaborn in c:\\python311\\lib\\site-packages (0.13.2)\n",
      "Collecting absl-py\n",
      "  Using cached absl_py-2.3.0-py3-none-any.whl (135 kB)\n",
      "Collecting attrs>=19.1.0\n",
      "  Using cached attrs-25.3.0-py3-none-any.whl (63 kB)\n",
      "Requirement already satisfied: flatbuffers>=2.0 in c:\\python311\\lib\\site-packages (from mediapipe) (25.2.10)\n",
      "Collecting jax\n",
      "  Using cached jax-0.6.2-py3-none-any.whl (2.7 MB)\n",
      "Collecting jaxlib\n",
      "  Downloading jaxlib-0.6.2-cp311-cp311-win_amd64.whl (57.9 MB)\n",
      "     --------------------------------------- 57.9/57.9 MB 18.7 MB/s eta 0:00:00\n",
      "Collecting numpy\n",
      "  Downloading numpy-1.26.4-cp311-cp311-win_amd64.whl (15.8 MB)\n",
      "     --------------------------------------- 15.8/15.8 MB 73.0 MB/s eta 0:00:00\n",
      "Collecting opencv-contrib-python\n",
      "  Using cached opencv_contrib_python-4.11.0.86-cp37-abi3-win_amd64.whl (46.2 MB)\n",
      "Collecting protobuf<5,>=4.25.3\n",
      "  Downloading protobuf-4.25.8-cp310-abi3-win_amd64.whl (413 kB)\n",
      "     ------------------------------------- 413.7/413.7 kB 25.2 MB/s eta 0:00:00\n",
      "Collecting sounddevice>=0.4.4\n",
      "  Using cached sounddevice-0.5.2-py3-none-win_amd64.whl (363 kB)\n",
      "Collecting sentencepiece\n",
      "  Downloading sentencepiece-0.2.0-cp311-cp311-win_amd64.whl (991 kB)\n",
      "     ------------------------------------- 991.5/991.5 kB 61.3 MB/s eta 0:00:00\n",
      "Requirement already satisfied: python-dateutil>=2.8.2 in c:\\python311\\lib\\site-packages (from pandas) (2.9.0.post0)\n",
      "Requirement already satisfied: pytz>=2020.1 in c:\\python311\\lib\\site-packages (from pandas) (2025.2)\n",
      "Requirement already satisfied: tzdata>=2022.7 in c:\\python311\\lib\\site-packages (from pandas) (2025.2)\n",
      "Requirement already satisfied: scipy>=1.6.0 in c:\\python311\\lib\\site-packages (from scikit-learn) (1.15.3)\n",
      "Requirement already satisfied: threadpoolctl>=3.1.0 in c:\\python311\\lib\\site-packages (from scikit-learn) (3.6.0)\n",
      "Requirement already satisfied: colorama in c:\\users\\lab\\appdata\\roaming\\python\\python311\\site-packages (from tqdm) (0.4.6)\n",
      "Requirement already satisfied: contourpy>=1.0.1 in c:\\python311\\lib\\site-packages (from matplotlib) (1.3.2)\n",
      "Requirement already satisfied: cycler>=0.10 in c:\\python311\\lib\\site-packages (from matplotlib) (0.12.1)\n",
      "Requirement already satisfied: fonttools>=4.22.0 in c:\\python311\\lib\\site-packages (from matplotlib) (4.58.0)\n",
      "Requirement already satisfied: kiwisolver>=1.3.1 in c:\\python311\\lib\\site-packages (from matplotlib) (1.4.8)\n",
      "Requirement already satisfied: packaging>=20.0 in c:\\python311\\lib\\site-packages (from matplotlib) (25.0)\n",
      "Requirement already satisfied: pillow>=8 in c:\\python311\\lib\\site-packages (from matplotlib) (11.2.1)\n",
      "Requirement already satisfied: pyparsing>=2.3.1 in c:\\python311\\lib\\site-packages (from matplotlib) (3.2.3)\n",
      "Requirement already satisfied: six>=1.5 in c:\\python311\\lib\\site-packages (from python-dateutil>=2.8.2->pandas) (1.17.0)\n",
      "Collecting CFFI>=1.0\n",
      "  Downloading cffi-1.17.1-cp311-cp311-win_amd64.whl (181 kB)\n",
      "     ------------------------------------- 181.4/181.4 kB 10.7 MB/s eta 0:00:00\n",
      "Collecting ml_dtypes>=0.5.0\n",
      "  Downloading ml_dtypes-0.5.1-cp311-cp311-win_amd64.whl (209 kB)\n",
      "     ------------------------------------- 209.7/209.7 kB 12.5 MB/s eta 0:00:00\n",
      "Collecting opt_einsum\n",
      "  Downloading opt_einsum-3.4.0-py3-none-any.whl (71 kB)\n",
      "     ---------------------------------------- 71.9/71.9 kB ? eta 0:00:00\n",
      "Collecting pycparser\n",
      "  Downloading pycparser-2.22-py3-none-any.whl (117 kB)\n",
      "     ---------------------------------------- 117.6/117.6 kB ? eta 0:00:00\n",
      "Installing collected packages: sentencepiece, tqdm, pycparser, protobuf, opt_einsum, numpy, attrs, absl-py, opencv-python, opencv-contrib-python, ml_dtypes, CFFI, sounddevice, jaxlib, jax, mediapipe\n"
     ]
    },
    {
     "name": "stderr",
     "output_type": "stream",
     "text": [
      "  WARNING: Failed to write executable - trying to use .deleteme logic\n",
      "ERROR: Could not install packages due to an OSError: [WinError 2] The system cannot find the file specified: 'C:\\\\Python311\\\\Scripts\\\\tqdm.exe' -> 'C:\\\\Python311\\\\Scripts\\\\tqdm.exe.deleteme'\n",
      "\n",
      "\n",
      "[notice] A new release of pip available: 22.3 -> 25.1.1\n",
      "[notice] To update, run: python.exe -m pip install --upgrade pip\n"
     ]
    }
   ],
   "source": [
    "!pip install mediapipe opencv-python numpy pandas scikit-learn tqdm matplotlib seaborn"
   ]
  },
  {
   "cell_type": "code",
   "execution_count": 6,
   "id": "a1fff133",
   "metadata": {},
   "outputs": [
    {
     "name": "stdout",
     "output_type": "stream",
     "text": [
      "Libraries imported successfully!\n"
     ]
    }
   ],
   "source": [
    "# Import libraries for pose estimation, video processing, and data manipulation\n",
    "import cv2\n",
    "import mediapipe as mp\n",
    "import numpy as np\n",
    "import pandas as pd\n",
    "import os\n",
    "from tqdm import tqdm\n",
    "\n",
    "# Import scikit-learn tools for SVM, scaling, splitting, and evaluation\n",
    "from sklearn.svm import SVC\n",
    "from sklearn.preprocessing import StandardScaler\n",
    "from sklearn.model_selection import train_test_split, GridSearchCV, StratifiedShuffleSplit\n",
    "from sklearn.metrics import accuracy_score, precision_score, recall_score, f1_score, classification_report, confusion_matrix\n",
    "\n",
    "# Import visualization libraries\n",
    "import matplotlib.pyplot as plt\n",
    "import seaborn as sns\n",
    "\n",
    "# Import utilities for real-time inference and logging\n",
    "import time\n",
    "import datetime\n",
    "import csv\n",
    "import threading\n",
    "\n",
    "# Initialize MediaPipe Pose\n",
    "mp_pose = mp.solutions.pose\n",
    "pose = mp_pose.Pose(static_image_mode=False, min_detection_confidence=0.5)\n",
    "mp_drawing = mp.solutions.drawing_utils\n",
    "\n",
    "print(\"Libraries imported successfully!\")"
   ]
  },
  {
   "cell_type": "markdown",
   "id": "d95651c0",
   "metadata": {},
   "source": [
    "# Helper Functions"
   ]
  },
  {
   "cell_type": "code",
   "execution_count": null,
   "id": "16e8c3ce",
   "metadata": {},
   "outputs": [],
   "source": [
    "# Define preprocessing functions\n",
    "\n",
    "# Define label mapping\n",
    "LABEL_MAP = {'Arm Raise Incorrect': 0, 'Arm Raise Correct': 1}\n",
    "\n",
    "def extract_landmarks(frame):\n",
    "    \"\"\"Extract pose landmarks from a frame using MediaPipe.\"\"\"\n",
    "    # Convert frame to RGB (MediaPipe requirement)\n",
    "    frame_rgb = cv2.cvtColor(frame, cv2.COLOR_BGR2RGB)\n",
    "    # Process frame to detect landmarks\n",
    "    results = pose.process(frame_rgb)\n",
    "    if results.pose_landmarks:  # Use pose_landmarks\n",
    "        # Flatten landmarks into a 132D vector (33 landmarks x [x, y, z, visibility])\n",
    "        landmarks = np.array([[lm.x, lm.y, lm.z, lm.visibility] for lm in results.pose_landmarks.landmark]).flatten()\n",
    "        return landmarks, results.pose_landmarks  # Return pose_landmarks\n",
    "    return None, None\n",
    "\n",
    "def compute_angle(a, b, c):\n",
    "    \"\"\"Compute angle at point b between points a and c.\"\"\"\n",
    "    a = np.array(a[:2])  # Use x, y coordinates\n",
    "    b = np.array(b[:2])\n",
    "    c = np.array(c[:2])\n",
    "    ab = a - b\n",
    "    bc = c - b\n",
    "    cos_angle = np.dot(ab, bc) / (np.linalg.norm(ab) * np.linalg.norm(bc))\n",
    "    angle = np.arccos(np.clip(cos_angle, -1.0, 1.0)) * 180 / np.pi\n",
    "    return angle\n",
    "\n",
    "def compute_distance(a, b):\n",
    "    \"\"\"Compute Euclidean distance between two landmarks.\"\"\"\n",
    "    a = np.array(a[:3])  # Use x, y, z\n",
    "    b = np.array(b[:3])\n",
    "    return np.linalg.norm(a - b)\n",
    "\n",
    "def normalize_landmarks(landmarks):\n",
    "    \"\"\"Normalize landmarks by centering and scaling.\"\"\"\n",
    "    landmarks = landmarks.reshape(33, 4)\n",
    "    # Use shoulders as reference points\n",
    "    left_shoulder = landmarks[mp_pose.PoseLandmark.LEFT_SHOULDER.value]\n",
    "    right_shoulder = landmarks[mp_pose.PoseLandmark.RIGHT_SHOULDER.value]\n",
    "    # Compute torso midpoint and shoulder width\n",
    "    torso_midpoint = (left_shoulder[:3] + right_shoulder[:3]) / 2\n",
    "    shoulder_width = compute_distance(left_shoulder, right_shoulder)\n",
    "    # Center landmarks by subtracting torso midpoint\n",
    "    normalized = landmarks.copy()\n",
    "    normalized[:, :3] -= torso_midpoint\n",
    "    # Scale x, y, z by shoulder width (preserve visibility)\n",
    "    normalized[:, :3] /= shoulder_width if shoulder_width > 0 else 1\n",
    "    return normalized.flatten()\n",
    "\n",
    "def extract_features(frame):\n",
    "    \"\"\"Extract features from a frame (normalized landmarks + angles + distances).\"\"\"\n",
    "    landmarks, landmark_obj = extract_landmarks(frame)\n",
    "    if landmarks is None:\n",
    "        return None\n",
    "    # Normalize landmarks\n",
    "    norm_landmarks = normalize_landmarks(landmarks)\n",
    "    # Compute additional features\n",
    "    if landmark_obj:\n",
    "        # Extract landmark coordinates as arrays\n",
    "        left_shoulder = np.array([landmark_obj.landmark[mp_pose.PoseLandmark.LEFT_SHOULDER.value].x,\n",
    "                                  landmark_obj.landmark[mp_pose.PoseLandmark.LEFT_SHOULDER.value].y,\n",
    "                                  landmark_obj.landmark[mp_pose.PoseLandmark.LEFT_SHOULDER.value].z])\n",
    "        left_elbow = np.array([landmark_obj.landmark[mp_pose.PoseLandmark.LEFT_ELBOW.value].x,\n",
    "                               landmark_obj.landmark[mp_pose.PoseLandmark.LEFT_ELBOW.value].y,\n",
    "                               landmark_obj.landmark[mp_pose.PoseLandmark.LEFT_ELBOW.value].z])\n",
    "        left_wrist = np.array([landmark_obj.landmark[mp_pose.PoseLandmark.LEFT_WRIST.value].x,\n",
    "                               landmark_obj.landmark[mp_pose.PoseLandmark.LEFT_WRIST.value].y,\n",
    "                               landmark_obj.landmark[mp_pose.PoseLandmark.LEFT_WRIST.value].z])\n",
    "        right_shoulder = np.array([landmark_obj.landmark[mp_pose.PoseLandmark.RIGHT_SHOULDER.value].x,\n",
    "                                   landmark_obj.landmark[mp_pose.PoseLandmark.RIGHT_SHOULDER.value].y,\n",
    "                                   landmark_obj.landmark[mp_pose.PoseLandmark.RIGHT_SHOULDER.value].z])\n",
    "        right_elbow = np.array([landmark_obj.landmark[mp_pose.PoseLandmark.RIGHT_ELBOW.value].x,\n",
    "                                landmark_obj.landmark[mp_pose.PoseLandmark.RIGHT_ELBOW.value].y,\n",
    "                                landmark_obj.landmark[mp_pose.PoseLandmark.RIGHT_ELBOW.value].z])\n",
    "        right_wrist = np.array([landmark_obj.landmark[mp_pose.PoseLandmark.RIGHT_WRIST.value].x,\n",
    "                                landmark_obj.landmark[mp_pose.PoseLandmark.RIGHT_WRIST.value].y,\n",
    "                                landmark_obj.landmark[mp_pose.PoseLandmark.RIGHT_WRIST.value].z])\n",
    "        # Elbow angles\n",
    "        left_elbow_angle = compute_angle(left_shoulder, left_elbow, left_wrist)\n",
    "        right_elbow_angle = compute_angle(right_shoulder, right_elbow, right_wrist)\n",
    "        # Normalized shoulder-to-wrist distances\n",
    "        shoulder_width = compute_distance(left_shoulder, right_shoulder)\n",
    "        left_distance = compute_distance(left_shoulder, left_wrist) / shoulder_width if shoulder_width > 0 else 1\n",
    "        right_distance = compute_distance(right_shoulder, right_wrist) / shoulder_width if shoulder_width > 0 else 1\n",
    "        # Combine features: 132D normalized landmarks + 2 angles + 2 distances\n",
    "        features = np.concatenate([norm_landmarks, [left_elbow_angle, right_elbow_angle, left_distance, right_distance]])\n",
    "        return features\n",
    "    return None\n",
    "\n",
    "def process_video(video_path, frame_skip=5):\n",
    "    \"\"\"Process a video to extract average features across frames.\"\"\"\n",
    "    cap = cv2.VideoCapture(video_path)\n",
    "    features_list = []\n",
    "    frame_count = 0\n",
    "    while cap.isOpened():\n",
    "        ret, frame = cap.read()\n",
    "        if not ret:\n",
    "            break\n",
    "        if frame_count % frame_skip == 0:\n",
    "            features = extract_features(frame)\n",
    "            if features is not None:\n",
    "                features_list.append(features)\n",
    "        frame_count += 1\n",
    "    cap.release()\n",
    "    if features_list:\n",
    "        # Average features across frames\n",
    "        return np.mean(features_list, axis=0)\n",
    "    return None\n",
    "\n",
    "def preprocess_dataset(dataset_path, frame_skip=5):\n",
    "    \"\"\"Preprocess dataset to extract features and labels.\"\"\"\n",
    "    X, y = [], []\n",
    "    for class_name in os.listdir(dataset_path):\n",
    "        class_path = os.path.join(dataset_path, class_name)\n",
    "        if os.path.isdir(class_path) and class_name in LABEL_MAP:\n",
    "            label = LABEL_MAP[class_name]\n",
    "            for video_name in tqdm(os.listdir(class_path), desc=f\"Processing {class_name}\"):\n",
    "                video_path = os.path.join(class_path, video_name)\n",
    "                features = process_video(video_path, frame_skip)\n",
    "                if features is not None:\n",
    "                    X.append(features)\n",
    "                    y.append(label)\n",
    "    return np.array(X), np.array(y)"
   ]
  },
  {
   "cell_type": "markdown",
   "id": "70b96189",
   "metadata": {},
   "source": [
    "# Preprocess Dataset"
   ]
  },
  {
   "cell_type": "code",
   "execution_count": null,
   "id": "56d6da16",
   "metadata": {},
   "outputs": [
    {
     "name": "stdout",
     "output_type": "stream",
     "text": [
      "Preprocessing training dataset...\n"
     ]
    },
    {
     "name": "stderr",
     "output_type": "stream",
     "text": [
      "Processing Arm Raise Correct: 100%|██████████| 40/40 [00:56<00:00,  1.42s/it]\n",
      "Processing Arm Raise Incorrect: 100%|██████████| 40/40 [00:47<00:00,  1.18s/it]\n"
     ]
    },
    {
     "name": "stdout",
     "output_type": "stream",
     "text": [
      "Preprocessing validation dataset...\n"
     ]
    },
    {
     "name": "stderr",
     "output_type": "stream",
     "text": [
      "Processing Arm Raise Correct: 100%|██████████| 5/5 [00:07<00:00,  1.55s/it]\n",
      "Processing Arm Raise Incorrect: 100%|██████████| 5/5 [00:07<00:00,  1.60s/it]\n"
     ]
    },
    {
     "name": "stdout",
     "output_type": "stream",
     "text": [
      "Preprocessing test dataset...\n"
     ]
    },
    {
     "name": "stderr",
     "output_type": "stream",
     "text": [
      "Processing Arm Raise Correct: 100%|██████████| 5/5 [00:09<00:00,  1.81s/it]\n",
      "Processing Arm Raise Incorrect: 100%|██████████| 5/5 [00:05<00:00,  1.02s/it]"
     ]
    },
    {
     "name": "stdout",
     "output_type": "stream",
     "text": [
      "Training set: 80 samples, [40 40] (Incorrect, Correct)\n",
      "Validation set: 10 samples, [5 5] (Incorrect, Correct)\n",
      "Test set: 10 samples, [5 5] (Incorrect, Correct)\n"
     ]
    },
    {
     "name": "stderr",
     "output_type": "stream",
     "text": [
      "\n"
     ]
    }
   ],
   "source": [
    "# Load and preprocess dataset\n",
    "# Define dataset paths\n",
    "train_path = 'dataset_small_50/train'\n",
    "val_path = 'dataset_small_50/val'\n",
    "test_path = 'dataset_small_50/test'\n",
    "\n",
    "# Preprocess training, validation, and test datasets\n",
    "print(\"Preprocessing training dataset...\")\n",
    "X_train, y_train = preprocess_dataset(train_path, frame_skip=5)\n",
    "print(\"Preprocessing validation dataset...\")\n",
    "X_val, y_val = preprocess_dataset(val_path, frame_skip=5)\n",
    "print(\"Preprocessing test dataset...\")\n",
    "X_test, y_test = preprocess_dataset(test_path, frame_skip=5)\n",
    "\n",
    "# Scale features using StandardScaler\n",
    "scaler = StandardScaler()\n",
    "X_train = scaler.fit_transform(X_train)\n",
    "X_val = scaler.transform(X_val)\n",
    "X_test = scaler.transform(X_test)\n",
    "\n",
    "# Print dataset statistics\n",
    "print(f\"Training set: {X_train.shape[0]} samples, {np.bincount(y_train)} (Incorrect, Correct)\")\n",
    "print(f\"Validation set: {X_val.shape[0]} samples, {np.bincount(y_val)} (Incorrect, Correct)\")\n",
    "print(f\"Test set: {X_test.shape[0]} samples, {np.bincount(y_test)} (Incorrect, Correct)\")"
   ]
  },
  {
   "cell_type": "markdown",
   "id": "f4ad7b12",
   "metadata": {},
   "source": [
    "# Training Random Forest Model"
   ]
  },
  {
   "cell_type": "code",
   "execution_count": null,
   "id": "e9b3c4ae",
   "metadata": {},
   "outputs": [
    {
     "name": "stderr",
     "output_type": "stream",
     "text": [
      "d:\\Anaconda\\Lib\\site-packages\\joblib\\externals\\loky\\process_executor.py:700: UserWarning: A worker stopped while some jobs were given to the executor. This can be caused by a too short worker timeout or by a memory leak.\n",
      "  warnings.warn(\n"
     ]
    },
    {
     "name": "stdout",
     "output_type": "stream",
     "text": [
      "Best Parameters: {'C': 1, 'gamma': 0.01, 'kernel': 'poly'}\n",
      "Cross-Validation Accuracy: 0.7625\n",
      "Validation Accuracy: 0.7000\n"
     ]
    }
   ],
   "source": [
    "# Define and train SVM model with hyperparameter tuning\n",
    "# Define parameter grid for GridSearchCV\n",
    "param_grid = {\n",
    "    'kernel': ['linear', 'rbf', 'poly'],\n",
    "    'C': [0.1, 1, 10],\n",
    "    'gamma': ['scale', 'auto', 0.01, 0.1]\n",
    "}\n",
    "\n",
    "# Initialize SVM classifier\n",
    "svm = SVC(random_state=42)\n",
    "\n",
    "# Perform grid search with 5-fold cross-validation\n",
    "grid_search = GridSearchCV(svm, param_grid, cv=5, scoring='accuracy', n_jobs=-1)\n",
    "grid_search.fit(X_train, y_train)\n",
    "\n",
    "# Get best model and parameters\n",
    "best_model = grid_search.best_estimator_\n",
    "best_params = grid_search.best_params_\n",
    "best_score = grid_search.best_score_\n",
    "\n",
    "# Evaluate on validation set\n",
    "y_val_pred = best_model.predict(X_val)\n",
    "val_accuracy = accuracy_score(y_val, y_val_pred)\n",
    "\n",
    "# Print results\n",
    "print(\"Best Parameters:\", best_params)\n",
    "print(f\"Cross-Validation Accuracy: {best_score:.4f}\")\n",
    "print(f\"Validation Accuracy: {val_accuracy:.4f}\")"
   ]
  },
  {
   "cell_type": "markdown",
   "id": "51ca6aa0",
   "metadata": {},
   "source": [
    "# Evaluate Model"
   ]
  },
  {
   "cell_type": "code",
   "execution_count": null,
   "id": "0482f688",
   "metadata": {},
   "outputs": [
    {
     "name": "stdout",
     "output_type": "stream",
     "text": [
      "Test Set Evaluation:\n",
      "Accuracy: 0.8000\n",
      "Precision: 0.7143\n",
      "Recall: 1.0000\n",
      "F1-Score: 0.8333\n",
      "\n",
      "Classification Report:\n",
      "              precision    recall  f1-score   support\n",
      "\n",
      "   Incorrect       1.00      0.60      0.75         5\n",
      "     Correct       0.71      1.00      0.83         5\n",
      "\n",
      "    accuracy                           0.80        10\n",
      "   macro avg       0.86      0.80      0.79        10\n",
      "weighted avg       0.86      0.80      0.79        10\n",
      "\n"
     ]
    },
    {
     "data": {
      "image/png": "[encoded data removed]",
      "text/plain": [
       "<Figure size 600x400 with 2 Axes>"
      ]
     },
     "metadata": {},
     "output_type": "display_data"
    },
    {
     "data": {
      "image/png": "[encoded data removed]",
      "text/plain": [
       "<Figure size 800x400 with 1 Axes>"
      ]
     },
     "metadata": {},
     "output_type": "display_data"
    }
   ],
   "source": [
    "# Evaluate model on test set\n",
    "# Predict on test set\n",
    "y_test_pred = best_model.predict(X_test)\n",
    "\n",
    "# Compute metrics\n",
    "accuracy = accuracy_score(y_test, y_test_pred)\n",
    "precision = precision_score(y_test, y_test_pred)\n",
    "recall = recall_score(y_test, y_test_pred)\n",
    "f1 = f1_score(y_test, y_test_pred)\n",
    "\n",
    "# Print metrics\n",
    "print(\"Test Set Evaluation:\")\n",
    "print(f\"Accuracy: {accuracy:.4f}\")\n",
    "print(f\"Precision: {precision:.4f}\")\n",
    "print(f\"Recall: {recall:.4f}\")\n",
    "print(f\"F1-Score: {f1:.4f}\")\n",
    "print(\"\\nClassification Report:\")\n",
    "print(classification_report(y_test, y_test_pred, target_names=['Incorrect', 'Correct']))\n",
    "\n",
    "# Visualize confusion matrix\n",
    "# Compute confusion matrix\n",
    "cm = confusion_matrix(y_test, y_test_pred)\n",
    "plt.figure(figsize=(6, 4))\n",
    "sns.heatmap(cm, annot=True, fmt='d', cmap='Blues', xticklabels=['Incorrect', 'Correct'], yticklabels=['Incorrect', 'Correct'])\n",
    "plt.xlabel('Predicted')\n",
    "plt.ylabel('True')\n",
    "plt.title('Confusion Matrix')\n",
    "plt.show()\n",
    "\n",
    "# Cell 3: Visualize performance metrics\n",
    "metrics = {'Accuracy': accuracy, 'Precision': precision, 'Recall': recall, 'F1-Score': f1}\n",
    "plt.figure(figsize=(8, 4))\n",
    "bars = plt.bar(metrics.keys(), metrics.values(), color=['blue', 'green', 'orange', 'red'])\n",
    "plt.ylim(0, 1)\n",
    "plt.title('Performance Metrics')\n",
    "plt.ylabel('Score')\n",
    "# Add value labels on bars\n",
    "for bar in bars:\n",
    "    yval = bar.get_height()\n",
    "    plt.text(bar.get_x() + bar.get_width()/2, yval + 0.02, f'{yval:.4f}', ha='center', va='bottom')\n",
    "plt.show()"
   ]
  },
  {
   "cell_type": "code",
   "execution_count": 27,
   "id": "09e1a681",
   "metadata": {},
   "outputs": [
    {
     "name": "stdout",
     "output_type": "stream",
     "text": [
      "Confusion Matrix:\n",
      " [[3 2]\n",
      " [0 5]]\n",
      "Test Set Accuracy: 0.8\n"
     ]
    }
   ],
   "source": [
    "# print confusion matrix\n",
    "print(\"Confusion Matrix:\\n\", cm)\n",
    "# print accuracy\n",
    "print(\"Test Set Accuracy:\", accuracy)"
   ]
  },
  {
   "cell_type": "markdown",
   "id": "56d666f8",
   "metadata": {},
   "source": [
    "# Real-Time Inference"
   ]
  },
  {
   "cell_type": "code",
   "execution_count": 15,
   "id": "292593f7",
   "metadata": {},
   "outputs": [
    {
     "name": "stdout",
     "output_type": "stream",
     "text": [
      "Starting real-time inference (press 'q' to quit)...\n",
      "Average FPS: 11.25\n",
      "Results logged to postureguardian_log_20250625_112307.csv\n"
     ]
    }
   ],
   "source": [
    "# Cell 1: Define real-time inference functions\n",
    "def draw_arm_skeleton(frame, landmarks):\n",
    "    \"\"\"Draw arm skeleton on the frame.\"\"\"\n",
    "    if landmarks:\n",
    "        # Define arm connections (shoulder-elbow, elbow-wrist)\n",
    "        connections = [\n",
    "            (mp_pose.PoseLandmark.LEFT_SHOULDER, mp_pose.PoseLandmark.LEFT_ELBOW),\n",
    "            (mp_pose.PoseLandmark.LEFT_ELBOW, mp_pose.PoseLandmark.LEFT_WRIST),\n",
    "            (mp_pose.PoseLandmark.RIGHT_SHOULDER, mp_pose.PoseLandmark.RIGHT_ELBOW),\n",
    "            (mp_pose.PoseLandmark.RIGHT_ELBOW, mp_pose.PoseLandmark.RIGHT_WRIST)\n",
    "        ]\n",
    "        # Draw lines\n",
    "        for start, end in connections:\n",
    "            start_lm = landmarks.landmark[start.value]  # Use landmark list\n",
    "            end_lm = landmarks.landmark[end.value]\n",
    "            cv2.line(frame, (int(start_lm.x * frame.shape[1]), int(start_lm.y * frame.shape[0])),\n",
    "                     (int(end_lm.x * frame.shape[1]), int(end_lm.y * frame.shape[0])), (255, 255, 255), 2)\n",
    "        # Draw circles at joints\n",
    "        for idx in [11, 12, 13, 14, 15, 16]:  # Shoulder, elbow, wrist indices\n",
    "            lm = landmarks.landmark[idx]\n",
    "            cv2.circle(frame, (int(lm.x * frame.shape[1]), int(lm.y * frame.shape[0])), 5, (255, 0, 0), -1)\n",
    "    return frame\n",
    "\n",
    "def init_csv_log():\n",
    "    \"\"\"Initialize CSV log file with timestamp.\"\"\"\n",
    "    timestamp = datetime.datetime.now().strftime(\"%Y%m%d_%H%M%S\")\n",
    "    log_file = f\"postureguardian_log_{timestamp}.csv\"\n",
    "    with open(log_file, 'w', newline='') as f:\n",
    "        writer = csv.writer(f)\n",
    "        writer.writerow(['Timestamp', 'Prediction'])\n",
    "    return log_file\n",
    "\n",
    "def inference_thread(model, scaler, cap, frame_skip, window_size, log_file, predictions, stop_event):\n",
    "    \"\"\"Run inference in a separate thread.\"\"\"\n",
    "    feature_window = []\n",
    "    frame_count = 0\n",
    "    while not stop_event.is_set():\n",
    "        ret, frame = cap.read()\n",
    "        if not ret:\n",
    "            break\n",
    "        if frame_count % frame_skip == 0:\n",
    "            features = extract_features(frame)\n",
    "            if features is not None:\n",
    "                # Scale features\n",
    "                features = scaler.transform([features])\n",
    "                # Predict\n",
    "                pred = model.predict(features)[0]\n",
    "                feature_window.append(pred)\n",
    "                if len(feature_window) > window_size:\n",
    "                    feature_window.pop(0)\n",
    "                # Smooth prediction\n",
    "                if feature_window:\n",
    "                    smoothed_pred = 1 if np.mean(feature_window) > 0.5 else 0\n",
    "                    predictions[0] = smoothed_pred\n",
    "                    # Log prediction\n",
    "                    with open(log_file, 'a', newline='') as f:\n",
    "                        writer = csv.writer(f)\n",
    "                        writer.writerow([datetime.datetime.now().strftime(\"%Y-%m-%d %H:%M:%S.%f\"), 'Correct' if smoothed_pred == 1 else 'Incorrect'])\n",
    "        frame_count += 1\n",
    "\n",
    "# Cell 2: Real-time inference\n",
    "def real_time_inference(model, scaler, frame_skip=3, window_size=10):\n",
    "    \"\"\"Perform real-time inference with webcam input.\"\"\"\n",
    "    print(\"Starting real-time inference (press 'q' to quit)...\")\n",
    "    cap = cv2.VideoCapture(0)\n",
    "    if not cap.isOpened():\n",
    "        print(\"Error: Could not open webcam.\")\n",
    "        return\n",
    "\n",
    "    # Initialize logging and threading\n",
    "    log_file = init_csv_log()\n",
    "    predictions = [0]  # Shared list for thread communication\n",
    "    stop_event = threading.Event()\n",
    "    thread = threading.Thread(target=inference_thread, args=(model, scaler, cap, frame_skip, window_size, log_file, predictions, stop_event))\n",
    "    thread.start()\n",
    "\n",
    "    # FPS measurement\n",
    "    fps_list = []\n",
    "    start_time = time.time()\n",
    "    avg_fps = 0  # Initialize avg_fps to handle early termination\n",
    "\n",
    "    try:\n",
    "        while True:\n",
    "            ret, frame = cap.read()\n",
    "            if not ret:\n",
    "                break\n",
    "            # Get current prediction\n",
    "            pred = predictions[0]\n",
    "            # Draw label\n",
    "            label = 'Correct' if pred == 1 else 'Incorrect'\n",
    "            color = (0, 255, 0) if pred == 1 else (0, 0, 255)\n",
    "            cv2.putText(frame, label, (50, 50), cv2.FONT_HERSHEY_SIMPLEX, 1, color, 2)\n",
    "            # Draw arm skeleton\n",
    "            _, landmarks = extract_landmarks(frame)\n",
    "            frame = draw_arm_skeleton(frame, landmarks)\n",
    "            # Display frame\n",
    "            cv2.imshow('PostureGuardian', frame)\n",
    "            # Calculate FPS\n",
    "            fps_list.append(time.time())\n",
    "            if len(fps_list) > 10:\n",
    "                fps_list.pop(0)\n",
    "                avg_fps = len(fps_list) / (fps_list[-1] - fps_list[0]) if len(fps_list) > 1 else 0\n",
    "            # Check for quit\n",
    "            if cv2.waitKey(1) & 0xFF == ord('q'):\n",
    "                break\n",
    "    finally:\n",
    "        stop_event.set()\n",
    "        thread.join()\n",
    "        cap.release()\n",
    "        cv2.destroyAllWindows()\n",
    "        print(f\"Average FPS: {avg_fps:.2f}\")\n",
    "        print(f\"Results logged to {log_file}\")\n",
    "\n",
    "# Run real-time inference\n",
    "real_time_inference(best_model, scaler, frame_skip=3, window_size=10)"
   ]
  }
 ],
 "metadata": {
  "kernelspec": {
   "display_name": "base",
   "language": "python",
   "name": "python3"
  },
  "language_info": {
   "codemirror_mode": {
    "name": "ipython",
    "version": 3
   },
   "file_extension": ".py",
   "mimetype": "text/x-python",
   "name": "python",
   "nbconvert_exporter": "python",
   "pygments_lexer": "ipython3",
   "version": "3.11.7"
  }
 },
 "nbformat": 4,
 "nbformat_minor": 5
}
